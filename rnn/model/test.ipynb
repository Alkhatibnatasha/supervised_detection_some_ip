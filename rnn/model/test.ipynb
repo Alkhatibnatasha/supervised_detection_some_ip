{
 "cells": [
  {
   "cell_type": "code",
   "execution_count": 189,
   "id": "1ad56694",
   "metadata": {},
   "outputs": [],
   "source": [
    "# Third Party\n",
    "import torch\n",
    "import torch.nn as nn\n",
    "\n",
    "\n",
    "############\n",
    "# COMPONENTS\n",
    "############\n",
    "\n",
    "\n",
    "\n",
    "class LSTM(nn.Module):\n",
    "    def __init__(self, input_dim, out_dim=1, h_dims=[], h_activ=nn.Tanh(),\n",
    "                 out_activ=nn.Sigmoid()):\n",
    "        super(LSTM, self).__init__()\n",
    "        \n",
    "        layer_dims = [input_dim] + h_dims + [out_dim]\n",
    "        self.num_layers = len(layer_dims) - 1\n",
    "        self.layers = nn.ModuleList()\n",
    "        \n",
    "        for index in range(self.num_layers-1):\n",
    "            layer = nn.LSTM(\n",
    "                input_size=layer_dims[index],\n",
    "                hidden_size=layer_dims[index + 1],\n",
    "                num_layers=1,\n",
    "                batch_first=True\n",
    "            )\n",
    "            self.layers.append(layer)\n",
    "\n",
    "        self.h_activ, self.out_activ = h_activ, out_activ\n",
    "        \n",
    "        self.linear=nn.Linear(layer_dims[-2],out_dim)\n",
    "        \n",
    "    def forward(self, x):\n",
    "        \n",
    " \n",
    "        for index, layer in enumerate(self.layers):\n",
    "          \n",
    "            x, (h_n, c_n) = layer(x)\n",
    "            x = self.h_activ(x)\n",
    "            \n",
    "        x=self.linear(x[:,-1])\n",
    "        print(x.shape)\n",
    "        x=self.out_activ(x)\n",
    "        print(x.shape)\n",
    "                \n",
    "\n",
    "        return x\n",
    "    \n"
   ]
  },
  {
   "cell_type": "code",
   "execution_count": 194,
   "id": "703c0c42",
   "metadata": {},
   "outputs": [],
   "source": [
    "m=LSTM(58, 1, h_dims=[16,13,5,3], h_activ=nn.Tanh(),\n",
    "                 out_activ=nn.Sigmoid())"
   ]
  },
  {
   "cell_type": "code",
   "execution_count": 195,
   "id": "25c7e3e1",
   "metadata": {},
   "outputs": [
    {
     "data": {
      "text/plain": [
       "LSTM(\n",
       "  (layers): ModuleList(\n",
       "    (0): LSTM(58, 16, batch_first=True)\n",
       "    (1): LSTM(16, 13, batch_first=True)\n",
       "    (2): LSTM(13, 5, batch_first=True)\n",
       "    (3): LSTM(5, 3, batch_first=True)\n",
       "  )\n",
       "  (h_activ): Tanh()\n",
       "  (out_activ): Sigmoid()\n",
       "  (linear): Linear(in_features=3, out_features=1, bias=True)\n",
       ")"
      ]
     },
     "execution_count": 195,
     "metadata": {},
     "output_type": "execute_result"
    }
   ],
   "source": [
    "m"
   ]
  },
  {
   "cell_type": "code",
   "execution_count": 196,
   "id": "88d30dfc",
   "metadata": {},
   "outputs": [],
   "source": [
    "x=torch.randn(32,16,58)"
   ]
  },
  {
   "cell_type": "code",
   "execution_count": 197,
   "id": "b3447639",
   "metadata": {},
   "outputs": [
    {
     "name": "stdout",
     "output_type": "stream",
     "text": [
      "torch.Size([32, 1])\n",
      "torch.Size([32, 1])\n"
     ]
    },
    {
     "data": {
      "text/plain": [
       "torch.Size([32, 1])"
      ]
     },
     "execution_count": 197,
     "metadata": {},
     "output_type": "execute_result"
    }
   ],
   "source": [
    "m(x).shape"
   ]
  },
  {
   "cell_type": "code",
   "execution_count": null,
   "id": "4006ae04",
   "metadata": {},
   "outputs": [],
   "source": []
  }
 ],
 "metadata": {
  "kernelspec": {
   "display_name": "Python 3 (ipykernel)",
   "language": "python",
   "name": "python3"
  },
  "language_info": {
   "codemirror_mode": {
    "name": "ipython",
    "version": 3
   },
   "file_extension": ".py",
   "mimetype": "text/x-python",
   "name": "python",
   "nbconvert_exporter": "python",
   "pygments_lexer": "ipython3",
   "version": "3.9.7"
  }
 },
 "nbformat": 4,
 "nbformat_minor": 5
}
